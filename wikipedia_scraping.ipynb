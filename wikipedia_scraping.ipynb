{
 "cells": [
  {
   "cell_type": "code",
   "execution_count": 1,
   "metadata": {},
   "outputs": [],
   "source": [
    "import pandas as pd\n",
    "import pywikibot\n",
    "import requests\n",
    "from tqdm import tqdm"
   ]
  },
  {
   "cell_type": "code",
   "execution_count": 2,
   "metadata": {},
   "outputs": [
    {
     "name": "stdout",
     "output_type": "stream",
     "text": [
      "The movie 'Special Effects (film)' is from 'United States of America'\n"
     ]
    }
   ],
   "source": [
    "wikipedia = pywikibot.Site('en', 'wikipedia')\n",
    "\n",
    "# Retrieve the page title from the wiki page id\n",
    "movie_wiki_id= 27611999\n",
    "api_url = url = f'https://en.wikipedia.org/w/api.php?action=query&pageids={movie_wiki_id}&format=json'\n",
    "json_data = requests.get(api_url).json()\n",
    "movie_title = json_data['query']['pages'][str(movie_wiki_id)]['title']\n",
    "\n",
    "# Retrieve the movie country from the wiki page\n",
    "country_property = 'P495'\n",
    "movie_wikipage = pywikibot.Page(wikipedia, movie_title)\n",
    "movie_itempage = pywikibot.ItemPage.fromPage(movie_wikipage)\n",
    "movie_itempage.get()\n",
    "movie_country = movie_itempage.claims[country_property][0].getTarget().labels['en']\n",
    "print(f\"The movie '{movie_title}' is from '{movie_country}'\")"
   ]
  },
  {
   "cell_type": "code",
   "execution_count": 3,
   "metadata": {},
   "outputs": [
    {
     "name": "stderr",
     "output_type": "stream",
     "text": [
      "  0%|          | 0/81741 [00:02<?, ?it/s]\n"
     ]
    }
   ],
   "source": [
    "# Load the data\n",
    "DATA_PATH = 'clean_data/'\n",
    "movies_df = pd.read_csv(DATA_PATH + 'movies.csv')\n",
    "\n",
    "# For each movie, retrieve the country from the wiki page and add it to the dataframe\n",
    "movies_df['country'] = ''\n",
    "for index, row in tqdm(movies_df.iterrows(), total=movies_df.shape[0]):\n",
    "\t# Retrieve the page title from the wiki page id\n",
    "\tmovie_wiki_id = row['wiki_id']\n",
    "\tapi_url = url = f'https://en.wikipedia.org/w/api.php?action=query&pageids={movie_wiki_id}&format=json'\n",
    "\tjson_data = requests.get(api_url).json()\n",
    "\ttry:\n",
    "\t\tmovie_title = json_data['query']['pages'][str(movie_wiki_id)]['title']\n",
    "\texcept:\n",
    "\t\tprint(f\"Error: movie with wiki_id {movie_wiki_id} not found\")\n",
    "\t\tcontinue\n",
    "\n",
    "\t# Retrieve the movie country from the wiki page\n",
    "\tmovie_wikipage = pywikibot.Page(wikipedia, movie_title)\n",
    "\tmovie_itempage = pywikibot.ItemPage.fromPage(movie_wikipage)\n",
    "\ttry:\n",
    "\t\tmovie_itempage.get()\n",
    "\t\tmovie_country = movie_itempage.claims[country_property][0].getTarget().labels['en']\n",
    "\t\tmovies_df.loc[index, 'country'] = movie_country\n",
    "\texcept:\n",
    "\t\tprint(f\"Error: country for movie '{movie_title}' not found\")\n",
    "\t\tcontinue\n",
    "\n",
    "\tbreak\n",
    "\n",
    "# Save the dataframe\n",
    "movies_df.to_csv('movies.csv', index=False)"
   ]
  },
  {
   "cell_type": "code",
   "execution_count": 2,
   "metadata": {},
   "outputs": [],
   "source": [
    "import requests\n",
    "\n",
    "api_key = '80e81791f5a7e6ef65685c64eb3ecd22'\n",
    "movie_id = 27611999\n",
    "url = f'https://api.themoviedb.org/3/movie/{movie_id}?api_key={api_key}'\n",
    "\n",
    "response = requests.get(url)\n",
    "if response.status_code == 200:\n",
    "\tjson_data = response.json()\n",
    "\tprint(json_data['title'])"
   ]
  }
 ],
 "metadata": {
  "kernelspec": {
   "display_name": "venv",
   "language": "python",
   "name": "python3"
  },
  "language_info": {
   "codemirror_mode": {
    "name": "ipython",
    "version": 3
   },
   "file_extension": ".py",
   "mimetype": "text/x-python",
   "name": "python",
   "nbconvert_exporter": "python",
   "pygments_lexer": "ipython3",
   "version": "3.11.6"
  }
 },
 "nbformat": 4,
 "nbformat_minor": 2
}
