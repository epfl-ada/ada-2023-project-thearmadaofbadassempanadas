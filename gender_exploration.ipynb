{
 "cells": [
  {
   "cell_type": "markdown",
   "metadata": {},
   "source": [
    "# Exploration of actors repartition based upon gender"
   ]
  },
  {
   "cell_type": "code",
   "execution_count": 29,
   "metadata": {},
   "outputs": [],
   "source": [
    "import pandas as pd\n",
    "import numpy as np\n",
    "import seaborn as sns\n",
    "import matplotlib.pyplot as plt\n",
    "from datetime import datetime"
   ]
  },
  {
   "cell_type": "code",
   "execution_count": 14,
   "metadata": {},
   "outputs": [],
   "source": [
    "# Data source: http://www.cs.cmu.edu/~ark/personas/\n",
    "\n",
    "# Define the data path\n",
    "CLEAN_DATA_PATH = 'clean_data/'"
   ]
  },
  {
   "cell_type": "code",
   "execution_count": 50,
   "metadata": {},
   "outputs": [],
   "source": [
    "# Function: filter NaN of a given column\n",
    "def filter_nan(dataframe, column_to_filter):\n",
    "    '''\n",
    "    Create a new dataframe filtering out the NaN values\n",
    "    of the given column of the given dataframe \n",
    "    :param dataframe: pandas.DataFrame\n",
    "    :param column_to_filter: str\n",
    "    :return: new dataframe\n",
    "    '''\n",
    "    new_df = dataframe.dropna(axis=0, subset=column_to_filter)\n",
    "    print(f\"Cleaning of {column_to_filter} : {new_df.shape[0]} entries left\")\n",
    "    return new_df    "
   ]
  },
  {
   "cell_type": "code",
   "execution_count": null,
   "metadata": {},
   "outputs": [],
   "source": [
    "# Load the data\n",
    "characters_df = pd.read_csv(CLEAN_DATA_PATH + \"characters.csv\")\n",
    "display(characters_df)\n",
    "\n",
    "initial_entries_number = characters_df.shape[0]\n",
    "print(f\"Initial entries: {initial_entries_number}\")\n",
    "\n",
    "# Remove NaN from column actor_gender\n",
    "filt_characters_df = filter_nan(characters_df, \"actor_gender\")\n",
    "\n",
    "# Remove NaN from actor_age\n",
    "filt_characters_df = filter_nan(filt_characters_df, \"actor_age\")\n",
    "\n",
    "# Remove NaN from movie_release_date\n",
    "filt_characters_df = filter_nan(filt_characters_df, \"movie_release_date\")\n",
    "\n",
    "display(filt_characters_df)"
   ]
  },
  {
   "cell_type": "markdown",
   "metadata": {},
   "source": [
    "Note that the order of column filtering of NaN is independent of the number of entries we obtain at the end."
   ]
  },
  {
   "cell_type": "code",
   "execution_count": null,
   "metadata": {},
   "outputs": [],
   "source": [
    "# # Create actresses dataframe\n",
    "# actresses_df = filt_characters_df.groupby[\"actor_gender\" ==]"
   ]
  },
  {
   "cell_type": "markdown",
   "metadata": {},
   "source": [
    "#### Comparison of actresses and actors number over the years "
   ]
  },
  {
   "cell_type": "code",
   "execution_count": 58,
   "metadata": {},
   "outputs": [],
   "source": [
    "#FIXME long loop (>2min) no possibility to check if error in code\n",
    "# def get_year(dataframe, x):\n",
    "#     try:\n",
    "#         return pd.to_datetime(dataframe[\"movie_release_date\"]).year()\n",
    "#     except:\n",
    "#         return x\n",
    "\n",
    "# # Uniformize movie_release_date to string containing only the year\n",
    "# filt_characters_df[\"movie_release_date\"] = filt_characters_df[\"movie_release_date\"].apply(lambda x: get_year(filt_characters_df, x))"
   ]
  },
  {
   "cell_type": "code",
   "execution_count": null,
   "metadata": {},
   "outputs": [],
   "source": []
  },
  {
   "cell_type": "markdown",
   "metadata": {},
   "source": [
    "### Age repartition of role played separated by gender"
   ]
  },
  {
   "cell_type": "markdown",
   "metadata": {},
   "source": []
  }
 ],
 "metadata": {
  "kernelspec": {
   "display_name": "ada",
   "language": "python",
   "name": "python3"
  },
  "language_info": {
   "codemirror_mode": {
    "name": "ipython",
    "version": 3
   },
   "file_extension": ".py",
   "mimetype": "text/x-python",
   "name": "python",
   "nbconvert_exporter": "python",
   "pygments_lexer": "ipython3",
   "version": "3.9.18"
  }
 },
 "nbformat": 4,
 "nbformat_minor": 2
}
