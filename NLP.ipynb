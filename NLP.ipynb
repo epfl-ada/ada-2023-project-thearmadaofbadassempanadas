{
 "cells": [
  {
   "cell_type": "markdown",
   "id": "8496c53f-5f5e-4cfa-b014-263303dc189d",
   "metadata": {},
   "source": [
    "# NLP analysis of plot summaries\n",
    "Import packages"
   ]
  },
  {
   "cell_type": "code",
   "execution_count": null,
   "id": "ac1b72db-fcc7-49e1-90a5-4de204eefa1f",
   "metadata": {},
   "outputs": [],
   "source": [
    "import pandas as pd\n",
    "import matplotlib.pyplot as plt\n",
    "%matplotlib inline"
   ]
  },
  {
   "cell_type": "code",
   "execution_count": null,
   "id": "435231af-b141-412e-a0b0-730886eb0bdf",
   "metadata": {},
   "outputs": [],
   "source": [
    "import sys\n",
    "print(sys.version)"
   ]
  },
  {
   "cell_type": "markdown",
   "id": "b135e16b-abca-42ab-a1df-f3f27e1120d2",
   "metadata": {},
   "source": [
    "Load data"
   ]
  },
  {
   "cell_type": "code",
   "execution_count": null,
   "id": "cc731f05-48f4-4d88-bef8-fb043286a28d",
   "metadata": {},
   "outputs": [],
   "source": [
    "# Define data path\n",
    "DATA_PATH = 'clean_data/'\n",
    "\n",
    "# Load summaries\n",
    "summaries_df = pd.read_csv(DATA_PATH + 'movies_summaries.csv')\n",
    "\n",
    "# Display dataframe\n",
    "display(summaries_df)"
   ]
  },
  {
   "cell_type": "markdown",
   "id": "76fb656b-93a3-4c8c-b69a-0b6d3f397539",
   "metadata": {},
   "source": [
    "Install stanza package for NLP"
   ]
  },
  {
   "cell_type": "code",
   "execution_count": null,
   "id": "c78f3f20-fb94-4592-81b2-587c680f500b",
   "metadata": {},
   "outputs": [],
   "source": [
    "# Run only the first time\n",
    "# !py -m pip install stanza"
   ]
  },
  {
   "cell_type": "code",
   "execution_count": null,
   "id": "d77a80e2-e1c2-4efd-8a1f-a4253d7de507",
   "metadata": {},
   "outputs": [],
   "source": [
    "import stanza"
   ]
  },
  {
   "cell_type": "markdown",
   "id": "203ac422-5445-4615-9036-b99a6963047a",
   "metadata": {},
   "source": [
    "Download NLP models"
   ]
  },
  {
   "cell_type": "code",
   "execution_count": null,
   "id": "b9580d12-f67c-4a26-a46e-01f52ca6e68b",
   "metadata": {},
   "outputs": [],
   "source": [
    "# Download english model\n",
    "stanza.download('en') \n",
    "\n",
    "# initialize English neural pipeline\n",
    "nlp = stanza.Pipeline(lang='en', processors='tokenize,sentiment') \n",
    "\n",
    "# run annotation over a sentence\n",
    "doc = nlp(\"Jennifer has pretty antennae.  I hope I meet her someday\") \n",
    "\n",
    "# Add sentiment analysis\n",
    "for i, sentence in enumerate(doc.sentences):\n",
    "    print(\"%d -> %d\" % (i, sentence.sentiment))"
   ]
  },
  {
   "cell_type": "code",
   "execution_count": null,
   "id": "3fe06362-d5c5-496b-b18a-b92b067ac7b6",
   "metadata": {},
   "outputs": [],
   "source": [
    "print(doc)"
   ]
  },
  {
   "cell_type": "markdown",
   "id": "ec966163-b745-4a20-b00b-b32f591df859",
   "metadata": {},
   "source": [
    "Pass the plot summaries using a list"
   ]
  },
  {
   "cell_type": "code",
   "execution_count": null,
   "id": "d722bdac-3df0-4788-8a33-6ecdec30b0e6",
   "metadata": {},
   "outputs": [],
   "source": [
    "# Convert the summaries column of df into a list\n",
    "summaries = summaries_df[\"summary\"].tolist()\n",
    "print(len(summaries))\n",
    "\n",
    "# Wrap each document with a stanza.Document object\n",
    "summaries_list = [stanza.Document([], text=p) for p in summaries] \n",
    "print(len(in_docs))"
   ]
  },
  {
   "cell_type": "code",
   "execution_count": null,
   "id": "3ffad929-5831-4f96-8294-d4a93bcf402c",
   "metadata": {},
   "outputs": [],
   "source": [
    "out_docs = nlp(summaries_list)"
   ]
  },
  {
   "cell_type": "markdown",
   "id": "e6426592-34d0-4e51-8c72-0ea28a041a4e",
   "metadata": {},
   "source": [
    "Ideas:\n",
    "- sentiment analysis \n",
    "- "
   ]
  },
  {
   "cell_type": "code",
   "execution_count": null,
   "id": "76801b8f-b9ba-40d5-b302-19a7dca33bf8",
   "metadata": {},
   "outputs": [],
   "source": []
  }
 ],
 "metadata": {
  "kernelspec": {
   "display_name": "Python 3 (ipykernel)",
   "language": "python",
   "name": "python3"
  },
  "language_info": {
   "codemirror_mode": {
    "name": "ipython",
    "version": 3
   },
   "file_extension": ".py",
   "mimetype": "text/x-python",
   "name": "python",
   "nbconvert_exporter": "python",
   "pygments_lexer": "ipython3",
   "version": "3.11.2"
  }
 },
 "nbformat": 4,
 "nbformat_minor": 5
}
