{
 "cells": [
  {
   "cell_type": "code",
   "execution_count": 7,
   "metadata": {},
   "outputs": [],
   "source": [
    "import pandas as pd\n",
    "import networkx as nx\n",
    "import matplotlib.pyplot as plt\n",
    "from pyvis.network import Network\n",
    "%matplotlib inline"
   ]
  },
  {
   "cell_type": "code",
   "execution_count": 8,
   "metadata": {},
   "outputs": [],
   "source": [
    "# Load the data\n",
    "DATA_PATH = 'clean_data/'\n",
    "characters_df = pd.read_csv(DATA_PATH + 'characters.csv')\n",
    "movies_df = pd.read_csv(DATA_PATH + 'movies.csv')\n",
    "europe_movies_df = pd.read_csv(DATA_PATH + 'europe_movies.csv')"
   ]
  },
  {
   "cell_type": "code",
   "execution_count": 9,
   "metadata": {},
   "outputs": [
    {
     "data": {
      "text/html": [
       "<div>\n",
       "<style scoped>\n",
       "    .dataframe tbody tr th:only-of-type {\n",
       "        vertical-align: middle;\n",
       "    }\n",
       "\n",
       "    .dataframe tbody tr th {\n",
       "        vertical-align: top;\n",
       "    }\n",
       "\n",
       "    .dataframe thead th {\n",
       "        text-align: right;\n",
       "    }\n",
       "</style>\n",
       "<table border=\"1\" class=\"dataframe\">\n",
       "  <thead>\n",
       "    <tr style=\"text-align: right;\">\n",
       "      <th></th>\n",
       "      <th>movie_wiki_id</th>\n",
       "      <th>movie_id</th>\n",
       "      <th>movie_release_date</th>\n",
       "      <th>character_name</th>\n",
       "      <th>actor_birth_date</th>\n",
       "      <th>actor_gender</th>\n",
       "      <th>actor_height</th>\n",
       "      <th>actor_ethinicity_id</th>\n",
       "      <th>actor_name</th>\n",
       "      <th>actor_age</th>\n",
       "      <th>actor_map_id</th>\n",
       "      <th>character_id</th>\n",
       "      <th>actor_id</th>\n",
       "      <th>wiki_id</th>\n",
       "      <th>movie_name</th>\n",
       "      <th>release_date</th>\n",
       "      <th>revenue</th>\n",
       "      <th>runtime</th>\n",
       "      <th>summary</th>\n",
       "    </tr>\n",
       "  </thead>\n",
       "  <tbody>\n",
       "    <tr>\n",
       "      <th>0</th>\n",
       "      <td>261236</td>\n",
       "      <td>/m/01mrr1</td>\n",
       "      <td>1983</td>\n",
       "      <td>NaN</td>\n",
       "      <td>1950-06-20</td>\n",
       "      <td>F</td>\n",
       "      <td>NaN</td>\n",
       "      <td>NaN</td>\n",
       "      <td>Gudrun Landgrebe</td>\n",
       "      <td>32.0</td>\n",
       "      <td>/m/02vb3cv</td>\n",
       "      <td>NaN</td>\n",
       "      <td>/m/09d6hv</td>\n",
       "      <td>261236</td>\n",
       "      <td>A Woman in Flames</td>\n",
       "      <td>1983</td>\n",
       "      <td>NaN</td>\n",
       "      <td>106.0</td>\n",
       "      <td>Eva, an upper class housewife, becomes frustra...</td>\n",
       "    </tr>\n",
       "    <tr>\n",
       "      <th>1</th>\n",
       "      <td>261236</td>\n",
       "      <td>/m/01mrr1</td>\n",
       "      <td>1983</td>\n",
       "      <td>NaN</td>\n",
       "      <td>1950-08-02</td>\n",
       "      <td>M</td>\n",
       "      <td>NaN</td>\n",
       "      <td>NaN</td>\n",
       "      <td>Mathieu Carrière</td>\n",
       "      <td>32.0</td>\n",
       "      <td>/m/02tbd9f</td>\n",
       "      <td>NaN</td>\n",
       "      <td>/m/06prxs</td>\n",
       "      <td>261236</td>\n",
       "      <td>A Woman in Flames</td>\n",
       "      <td>1983</td>\n",
       "      <td>NaN</td>\n",
       "      <td>106.0</td>\n",
       "      <td>Eva, an upper class housewife, becomes frustra...</td>\n",
       "    </tr>\n",
       "    <tr>\n",
       "      <th>2</th>\n",
       "      <td>261236</td>\n",
       "      <td>/m/01mrr1</td>\n",
       "      <td>1983</td>\n",
       "      <td>NaN</td>\n",
       "      <td>1947-06-18</td>\n",
       "      <td>M</td>\n",
       "      <td>NaN</td>\n",
       "      <td>NaN</td>\n",
       "      <td>Hanns Zischler</td>\n",
       "      <td>35.0</td>\n",
       "      <td>/m/02vdfng</td>\n",
       "      <td>NaN</td>\n",
       "      <td>/m/09k3x_</td>\n",
       "      <td>261236</td>\n",
       "      <td>A Woman in Flames</td>\n",
       "      <td>1983</td>\n",
       "      <td>NaN</td>\n",
       "      <td>106.0</td>\n",
       "      <td>Eva, an upper class housewife, becomes frustra...</td>\n",
       "    </tr>\n",
       "    <tr>\n",
       "      <th>3</th>\n",
       "      <td>2238856</td>\n",
       "      <td>/m/06yc6v</td>\n",
       "      <td>2005-01</td>\n",
       "      <td>Michael</td>\n",
       "      <td>NaN</td>\n",
       "      <td>M</td>\n",
       "      <td>NaN</td>\n",
       "      <td>NaN</td>\n",
       "      <td>Hector Elias</td>\n",
       "      <td>NaN</td>\n",
       "      <td>/m/0bf1hh6</td>\n",
       "      <td>/m/0g98dth</td>\n",
       "      <td>/m/05pxr49</td>\n",
       "      <td>2238856</td>\n",
       "      <td>Me and You and Everyone We Know</td>\n",
       "      <td>2005-01</td>\n",
       "      <td>8012838.0</td>\n",
       "      <td>91.0</td>\n",
       "      <td>The structure of the film consists of several ...</td>\n",
       "    </tr>\n",
       "    <tr>\n",
       "      <th>4</th>\n",
       "      <td>2238856</td>\n",
       "      <td>/m/06yc6v</td>\n",
       "      <td>2005-01</td>\n",
       "      <td>Richard Swersey</td>\n",
       "      <td>1959-09-11</td>\n",
       "      <td>M</td>\n",
       "      <td>1.78</td>\n",
       "      <td>NaN</td>\n",
       "      <td>John Hawkes</td>\n",
       "      <td>NaN</td>\n",
       "      <td>/m/0k0jnm</td>\n",
       "      <td>/m/0g98dqk</td>\n",
       "      <td>/m/0785v8</td>\n",
       "      <td>2238856</td>\n",
       "      <td>Me and You and Everyone We Know</td>\n",
       "      <td>2005-01</td>\n",
       "      <td>8012838.0</td>\n",
       "      <td>91.0</td>\n",
       "      <td>The structure of the film consists of several ...</td>\n",
       "    </tr>\n",
       "  </tbody>\n",
       "</table>\n",
       "</div>"
      ],
      "text/plain": [
       "   movie_wiki_id   movie_id movie_release_date   character_name  \\\n",
       "0         261236  /m/01mrr1               1983              NaN   \n",
       "1         261236  /m/01mrr1               1983              NaN   \n",
       "2         261236  /m/01mrr1               1983              NaN   \n",
       "3        2238856  /m/06yc6v            2005-01          Michael   \n",
       "4        2238856  /m/06yc6v            2005-01  Richard Swersey   \n",
       "\n",
       "  actor_birth_date actor_gender  actor_height actor_ethinicity_id  \\\n",
       "0       1950-06-20            F           NaN                 NaN   \n",
       "1       1950-08-02            M           NaN                 NaN   \n",
       "2       1947-06-18            M           NaN                 NaN   \n",
       "3              NaN            M           NaN                 NaN   \n",
       "4       1959-09-11            M          1.78                 NaN   \n",
       "\n",
       "         actor_name  actor_age actor_map_id character_id    actor_id  wiki_id  \\\n",
       "0  Gudrun Landgrebe       32.0   /m/02vb3cv          NaN   /m/09d6hv   261236   \n",
       "1  Mathieu Carrière       32.0   /m/02tbd9f          NaN   /m/06prxs   261236   \n",
       "2    Hanns Zischler       35.0   /m/02vdfng          NaN   /m/09k3x_   261236   \n",
       "3      Hector Elias        NaN   /m/0bf1hh6   /m/0g98dth  /m/05pxr49  2238856   \n",
       "4       John Hawkes        NaN    /m/0k0jnm   /m/0g98dqk   /m/0785v8  2238856   \n",
       "\n",
       "                        movie_name release_date    revenue  runtime  \\\n",
       "0                A Woman in Flames         1983        NaN    106.0   \n",
       "1                A Woman in Flames         1983        NaN    106.0   \n",
       "2                A Woman in Flames         1983        NaN    106.0   \n",
       "3  Me and You and Everyone We Know      2005-01  8012838.0     91.0   \n",
       "4  Me and You and Everyone We Know      2005-01  8012838.0     91.0   \n",
       "\n",
       "                                             summary  \n",
       "0  Eva, an upper class housewife, becomes frustra...  \n",
       "1  Eva, an upper class housewife, becomes frustra...  \n",
       "2  Eva, an upper class housewife, becomes frustra...  \n",
       "3  The structure of the film consists of several ...  \n",
       "4  The structure of the film consists of several ...  "
      ]
     },
     "metadata": {},
     "output_type": "display_data"
    },
    {
     "name": "stdout",
     "output_type": "stream",
     "text": [
      "(66995, 19)\n"
     ]
    }
   ],
   "source": [
    "# Only keep the Asian movies\n",
    "movies_df = pd.merge(movies_df, europe_movies_df, left_on='id', right_on='movie_id')\n",
    "movies_df = movies_df.drop(columns=['movie_id'])\n",
    "\n",
    "# Merge the movies and characters dataframes\n",
    "df = pd.merge(characters_df, movies_df, left_on='movie_id', right_on='id')\n",
    "df = df.drop(columns=['id_y'])\n",
    "df = df.rename(columns={'name_x': 'character_name', 'name_y': 'movie_name', 'id_x': 'character_id', 'id_y': 'movie_id'})\n",
    "display(df.head())\n",
    "print(df.shape)"
   ]
  },
  {
   "cell_type": "code",
   "execution_count": 10,
   "metadata": {},
   "outputs": [
    {
     "name": "stdout",
     "output_type": "stream",
     "text": [
      "(100, 19)\n"
     ]
    }
   ],
   "source": [
    "# FIXME - Keep only the first rows\n",
    "df = df[:100]\n",
    "print(df.shape)"
   ]
  },
  {
   "cell_type": "code",
   "execution_count": 11,
   "metadata": {},
   "outputs": [
    {
     "name": "stdout",
     "output_type": "stream",
     "text": [
      "There are 98 actors in our dataset\n",
      "There are 500 connections between actors\n"
     ]
    }
   ],
   "source": [
    "# Get the list of actors\n",
    "actors = df['actor_name'].dropna().unique()\n",
    "print(f\"There are {len(actors)} actors in our dataset\")\n",
    "\n",
    "# Get the list of connections between actors\n",
    "# An actor is connected to another if they played in the same movie\n",
    "connections = set()\n",
    "for movie_id in df['movie_id'].dropna().unique():\n",
    "\tactors_in_movie = df[df['movie_id'] == movie_id]['actor_name'].dropna().unique()\n",
    "\tfor actor in actors_in_movie:\n",
    "\t\tfor other_actor in actors_in_movie:\n",
    "\t\t\tif actor != other_actor:\n",
    "\t\t\t\tconnections.add(tuple(sorted([actor, other_actor])))\n",
    "print(f\"There are {len(connections)} connections between actors\")"
   ]
  },
  {
   "cell_type": "code",
   "execution_count": 12,
   "metadata": {},
   "outputs": [
    {
     "name": "stdout",
     "output_type": "stream",
     "text": [
      "Warning: When  cdn_resources is 'local' jupyter notebook has issues displaying graphics on chrome/safari. Use cdn_resources='in_line' or cdn_resources='remote' if you have issues viewing graphics in a notebook.\n",
      "actors_connections.html\n"
     ]
    },
    {
     "data": {
      "text/html": [
       "\n",
       "        <iframe\n",
       "            width=\"100%\"\n",
       "            height=\"1000px\"\n",
       "            src=\"actors_connections.html\"\n",
       "            frameborder=\"0\"\n",
       "            allowfullscreen\n",
       "            \n",
       "        ></iframe>\n",
       "        "
      ],
      "text/plain": [
       "<IPython.lib.display.IFrame at 0x7f9aca5d0e90>"
      ]
     },
     "execution_count": 12,
     "metadata": {},
     "output_type": "execute_result"
    }
   ],
   "source": [
    "# Create a graph\n",
    "graph = nx.Graph()\n",
    "\n",
    "# Add nodes and edges\n",
    "graph.add_nodes_from(actors)\n",
    "graph.add_edges_from(connections)\n",
    "\n",
    "# Draw the interactive graph\n",
    "network = Network(notebook=True, height='1000px', width='100%')\n",
    "network.repulsion()\n",
    "network.from_nx(graph)\n",
    "network.show('actors_connections.html')"
   ]
  }
 ],
 "metadata": {
  "kernelspec": {
   "display_name": "venv",
   "language": "python",
   "name": "python3"
  },
  "language_info": {
   "codemirror_mode": {
    "name": "ipython",
    "version": 3
   },
   "file_extension": ".py",
   "mimetype": "text/x-python",
   "name": "python",
   "nbconvert_exporter": "python",
   "pygments_lexer": "ipython3",
   "version": "3.11.6"
  }
 },
 "nbformat": 4,
 "nbformat_minor": 2
}
